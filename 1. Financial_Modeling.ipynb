{
  "nbformat": 4,
  "nbformat_minor": 0,
  "metadata": {
    "colab": {
      "provenance": [],
      "collapsed_sections": [],
      "authorship_tag": "ABX9TyML8osRWOzZjz33GuuP6IiS",
      "include_colab_link": true
    },
    "kernelspec": {
      "name": "python3",
      "display_name": "Python 3"
    },
    "language_info": {
      "name": "python"
    }
  },
  "cells": [
    {
      "cell_type": "markdown",
      "metadata": {
        "id": "view-in-github",
        "colab_type": "text"
      },
      "source": [
        "<a href=\"https://colab.research.google.com/github/shahriar0999/financial-modeling/blob/main/1.%20Financial_Modeling.ipynb\" target=\"_parent\"><img src=\"https://colab.research.google.com/assets/colab-badge.svg\" alt=\"Open In Colab\"/></a>"
      ]
    },
    {
      "cell_type": "markdown",
      "source": [
        "# Input \n",
        "- The input are define here."
      ],
      "metadata": {
        "id": "Ev1bA9cX8lq6"
      }
    },
    {
      "cell_type": "code",
      "source": [
        "! pip install numpy_financial"
      ],
      "metadata": {
        "colab": {
          "base_uri": "https://localhost:8080/"
        },
        "id": "jeC39GxF2YGP",
        "outputId": "121d5f97-e2b5-495e-d654-0dd09cf0fba3"
      },
      "execution_count": 3,
      "outputs": [
        {
          "output_type": "stream",
          "name": "stdout",
          "text": [
            "Looking in indexes: https://pypi.org/simple, https://us-python.pkg.dev/colab-wheels/public/simple/\n",
            "Collecting numpy_financial\n",
            "  Downloading numpy_financial-1.0.0-py3-none-any.whl (14 kB)\n",
            "Requirement already satisfied: numpy>=1.15 in /usr/local/lib/python3.7/dist-packages (from numpy_financial) (1.21.6)\n",
            "Installing collected packages: numpy-financial\n",
            "Successfully installed numpy-financial-1.0.0\n"
          ]
        }
      ]
    },
    {
      "cell_type": "code",
      "source": [
        "import numpy as np\n",
        "import numpy_financial as npf"
      ],
      "metadata": {
        "id": "Y00PsWtFrmWp"
      },
      "execution_count": 4,
      "outputs": []
    },
    {
      "cell_type": "code",
      "source": [
        "salary = 80000\n",
        "savings_rate = .25\n",
        "investment_rate = .07\n",
        "desired_cash = 100000"
      ],
      "metadata": {
        "id": "P372Au2H8viX"
      },
      "execution_count": 5,
      "outputs": []
    },
    {
      "cell_type": "markdown",
      "source": [
        "# Determining Cash Save"
      ],
      "metadata": {
        "id": "nCEgwwwZ9M7x"
      }
    },
    {
      "cell_type": "code",
      "source": [
        "annual_cash = salary * savings_rate\n",
        "annual_cash"
      ],
      "metadata": {
        "colab": {
          "base_uri": "https://localhost:8080/"
        },
        "id": "pTO8Jyjj9QqY",
        "outputId": "3c6926e6-2c13-4758-c85c-09ad3bb0b7da"
      },
      "execution_count": 6,
      "outputs": [
        {
          "output_type": "execute_result",
          "data": {
            "text/plain": [
              "20000.0"
            ]
          },
          "metadata": {},
          "execution_count": 6
        }
      ]
    },
    {
      "cell_type": "markdown",
      "source": [
        "# Years to Retirement"
      ],
      "metadata": {
        "id": "rcneqmLA9c_T"
      }
    },
    {
      "cell_type": "code",
      "source": [
        "years_to_retirement = npf.nper(investment_rate, -annual_cash, 0, desired_cash)\n",
        "print(f'{years_to_retirement:.2f} Years needed for Retirement, If we will get {investment_rate:.0%}')     # for one year interest"
      ],
      "metadata": {
        "colab": {
          "base_uri": "https://localhost:8080/"
        },
        "id": "xm_qGRYAz67l",
        "outputId": "3a84fbba-ac5b-47a1-b142-892861dcacf0"
      },
      "execution_count": 7,
      "outputs": [
        {
          "output_type": "stream",
          "name": "stdout",
          "text": [
            "4.44 Years needed for Retirement, If we will get 7%\n"
          ]
        }
      ]
    },
    {
      "cell_type": "markdown",
      "source": [
        "# Multiple Rate Interest"
      ],
      "metadata": {
        "id": "R0RMcsYYz7lx"
      }
    },
    {
      "cell_type": "code",
      "source": [
        "investment_rate = [.06, .07, .08, .09, .10]\n",
        "for inv_rate in investment_rate:\n",
        "  years_to_retirement = npf.nper(inv_rate, -annual_cash, 0, desired_cash)\n",
        "  print(f'{years_to_retirement:.2f} Years needed for Retirement, If we will get {inv_rate:.0%}')"
      ],
      "metadata": {
        "colab": {
          "base_uri": "https://localhost:8080/"
        },
        "id": "fUA6Y7YD9RF2",
        "outputId": "94d1a192-233f-4c80-e2f6-4480a19c273a"
      },
      "execution_count": 8,
      "outputs": [
        {
          "output_type": "stream",
          "name": "stdout",
          "text": [
            "4.50 Years needed for Retirement, If we will get 6%\n",
            "4.44 Years needed for Retirement, If we will get 7%\n",
            "4.37 Years needed for Retirement, If we will get 8%\n",
            "4.31 Years needed for Retirement, If we will get 9%\n",
            "4.25 Years needed for Retirement, If we will get 10%\n"
          ]
        }
      ]
    },
    {
      "cell_type": "markdown",
      "source": [
        "# Lab Exercise \n",
        "- When we have multiple savings rate and mulitple investment rate"
      ],
      "metadata": {
        "id": "tK_jR07N2tzZ"
      }
    },
    {
      "cell_type": "code",
      "source": [
        "savings_rate = [.10,.25,.40]\n",
        "investment_rate = [.04,.05,.06]\n",
        "salary = 100000\n",
        "retirement_cash = 7000000"
      ],
      "metadata": {
        "id": "byfpqcqC9Q-X"
      },
      "execution_count": 32,
      "outputs": []
    },
    {
      "cell_type": "code",
      "source": [
        "annual_cash = []\n",
        "for saving_rate in savings_rate:\n",
        "  annual_cash.append(salary*saving_rate)"
      ],
      "metadata": {
        "id": "o2Td2ftb9Q8S"
      },
      "execution_count": 37,
      "outputs": []
    },
    {
      "cell_type": "code",
      "source": [
        "annual_cash"
      ],
      "metadata": {
        "id": "mCnZyfks9Q39",
        "colab": {
          "base_uri": "https://localhost:8080/"
        },
        "outputId": "4b5b0c32-4625-4438-f7c6-bcbddee1076c"
      },
      "execution_count": 38,
      "outputs": [
        {
          "output_type": "execute_result",
          "data": {
            "text/plain": [
              "[10000.0, 25000.0, 40000.0]"
            ]
          },
          "metadata": {},
          "execution_count": 38
        }
      ]
    },
    {
      "cell_type": "code",
      "source": [
        "for cash in annual_cash:\n",
        "  for rate_inv in investment_rate:\n",
        "    retirement_year = npf.nper(rate_inv, -cash, 0, 700000)\n",
        "    print(f'if my savings is {cash} then {retirement_year:.2f} years need, if we will get {rate_inv:.0%}.')"
      ],
      "metadata": {
        "colab": {
          "base_uri": "https://localhost:8080/"
        },
        "id": "IAAS10ur6hJg",
        "outputId": "f2f83bab-e2d5-48cb-8070-a16a3c2653bf"
      },
      "execution_count": 43,
      "outputs": [
        {
          "output_type": "stream",
          "name": "stdout",
          "text": [
            "if my savings is 10000.0 then 34.04 years need, if we will get 4%.\n",
            "if my savings is 10000.0 then 30.83 years need, if we will get 5%.\n",
            "if my savings is 10000.0 then 28.29 years need, if we will get 6%.\n",
            "if my savings is 25000.0 then 19.16 years need, if we will get 4%.\n",
            "if my savings is 25000.0 then 17.94 years need, if we will get 5%.\n",
            "if my savings is 25000.0 then 16.92 years need, if we will get 6%.\n",
            "if my savings is 40000.0 then 13.53 years need, if we will get 4%.\n",
            "if my savings is 40000.0 then 12.88 years need, if we will get 5%.\n",
            "if my savings is 40000.0 then 12.32 years need, if we will get 6%.\n"
          ]
        }
      ]
    },
    {
      "cell_type": "code",
      "source": [
        "a = [1,2,3]\n",
        "b = ['a' ,'b', 'c']\n",
        "for a_item in a:\n",
        "  for b_item in b:\n",
        "    print(a_item, b_item)"
      ],
      "metadata": {
        "id": "XPgRKt2l9Qyr",
        "colab": {
          "base_uri": "https://localhost:8080/"
        },
        "outputId": "a87c7c0c-3728-45e4-a42f-88d2dcaa0193"
      },
      "execution_count": 27,
      "outputs": [
        {
          "output_type": "stream",
          "name": "stdout",
          "text": [
            "1 a\n",
            "1 b\n",
            "1 c\n",
            "2 a\n",
            "2 b\n",
            "2 c\n",
            "3 a\n",
            "3 b\n",
            "3 c\n"
          ]
        }
      ]
    },
    {
      "cell_type": "code",
      "source": [],
      "metadata": {
        "id": "OCT7ISCr9Qw4"
      },
      "execution_count": null,
      "outputs": []
    }
  ]
}