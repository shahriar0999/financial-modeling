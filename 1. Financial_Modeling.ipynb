{
  "nbformat": 4,
  "nbformat_minor": 0,
  "metadata": {
    "colab": {
      "provenance": [],
      "collapsed_sections": [],
      "authorship_tag": "ABX9TyPSVwJyoD1csuHDeBSdaY+J"
    },
    "kernelspec": {
      "name": "python3",
      "display_name": "Python 3"
    },
    "language_info": {
      "name": "python"
    }
  },
  "cells": [
    {
      "cell_type": "markdown",
      "source": [
        "# Input \n",
        "- The input are define here."
      ],
      "metadata": {
        "id": "Ev1bA9cX8lq6"
      }
    },
    {
      "cell_type": "code",
      "source": [
        "import numpy as np\n",
        "import numpy_financial as npf"
      ],
      "metadata": {
        "id": "Y00PsWtFrmWp"
      },
      "execution_count": 27,
      "outputs": []
    },
    {
      "cell_type": "code",
      "source": [
        "salary = 80000\n",
        "savings_rate = .25\n",
        "investment_rate = .07\n",
        "desired_cash = 100000"
      ],
      "metadata": {
        "id": "P372Au2H8viX"
      },
      "execution_count": 25,
      "outputs": []
    },
    {
      "cell_type": "markdown",
      "source": [
        "# Determining Cash Save"
      ],
      "metadata": {
        "id": "nCEgwwwZ9M7x"
      }
    },
    {
      "cell_type": "code",
      "source": [
        "annual_cash = salary * savings_rate\n",
        "annual_cash"
      ],
      "metadata": {
        "colab": {
          "base_uri": "https://localhost:8080/"
        },
        "id": "pTO8Jyjj9QqY",
        "outputId": "0901172b-4091-40dd-904e-c37a6108a41e"
      },
      "execution_count": 26,
      "outputs": [
        {
          "output_type": "execute_result",
          "data": {
            "text/plain": [
              "20000.0"
            ]
          },
          "metadata": {},
          "execution_count": 26
        }
      ]
    },
    {
      "cell_type": "markdown",
      "source": [
        "# Years to Retirement"
      ],
      "metadata": {
        "id": "rcneqmLA9c_T"
      }
    },
    {
      "cell_type": "code",
      "source": [
        "investment_rate = [.06, .07, .08, .09, .10]\n",
        "for inv_rate in investment_rate:\n",
        "  years_to_retirement = npf.nper(inv_rate, -annual_cash, 0, desired_cash)\n",
        "  print(f'{years_to_retirement:.2f} Years needed for Retirement, If we will get {inv_rate:.0%}')"
      ],
      "metadata": {
        "colab": {
          "base_uri": "https://localhost:8080/"
        },
        "id": "fUA6Y7YD9RF2",
        "outputId": "187bda53-422f-4c9a-ea5d-3194534b5525"
      },
      "execution_count": 34,
      "outputs": [
        {
          "output_type": "stream",
          "name": "stdout",
          "text": [
            "4.50 Years needed for Retirement, If we will get6%\n",
            "4.44 Years needed for Retirement, If we will get7%\n",
            "4.37 Years needed for Retirement, If we will get8%\n",
            "4.31 Years needed for Retirement, If we will get9%\n",
            "4.25 Years needed for Retirement, If we will get10%\n"
          ]
        }
      ]
    },
    {
      "cell_type": "code",
      "source": [],
      "metadata": {
        "id": "byfpqcqC9Q-X"
      },
      "execution_count": null,
      "outputs": []
    },
    {
      "cell_type": "code",
      "source": [],
      "metadata": {
        "id": "o2Td2ftb9Q8S"
      },
      "execution_count": null,
      "outputs": []
    },
    {
      "cell_type": "code",
      "source": [],
      "metadata": {
        "id": "mCnZyfks9Q39"
      },
      "execution_count": null,
      "outputs": []
    },
    {
      "cell_type": "code",
      "source": [],
      "metadata": {
        "id": "cQyWU3Wt9Q1a"
      },
      "execution_count": null,
      "outputs": []
    },
    {
      "cell_type": "code",
      "source": [],
      "metadata": {
        "id": "XPgRKt2l9Qyr"
      },
      "execution_count": null,
      "outputs": []
    },
    {
      "cell_type": "code",
      "source": [],
      "metadata": {
        "id": "OCT7ISCr9Qw4"
      },
      "execution_count": null,
      "outputs": []
    }
  ]
}